{
 "cells": [
  {
   "cell_type": "markdown",
   "id": "0a7bebea-82c2-4246-b41d-9142de3e57fe",
   "metadata": {},
   "source": [
    "# Asistente Turístico de Tenerife (RAG + diálogo + `get_weather`)\n",
    "\n",
    "Proyecto del módulo LLM (Máster IA, Cloud & DevOps).  \n",
    "Objetivo: prototipo reproducible que responda preguntas sobre una guía de Tenerife usando **RAG**, mantenga **diálogo multiturturno** y realice una llamada externa simulada **`get_weather(fecha)`** con manejo de errores y log.\n"
   ]
  },
  {
   "cell_type": "markdown",
   "id": "8d4f7330-6f19-40c3-8b3e-88b4acdff029",
   "metadata": {},
   "source": [
    "## Alcance\n",
    "- Fuente: guía turística en PDF (Tenerife).\n",
    "- RAG: chunking + embeddings + vector store (FAISS).\n",
    "- LLM comercial (OpenAI).\n",
    "- Diálogo con memoria de conversación.\n",
    "- Function call: `get_weather(fecha: AAAA-MM-DD)` (simulada) + logging.\n",
    "\n",
    "## Decisiones prácticas\n",
    "- Extraeré texto **directamente del PDF**.\n",
    "- Parámetros simples: `chunk_size=500`, `overlap=100`.\n",
    "- Evaluación ligera: ejemplos de consultas, fuentes recuperadas y casos límite.\n"
   ]
  },
  {
   "cell_type": "markdown",
   "id": "d6f4f052-e8f9-48c2-bb3c-6d3d8f6bb1ff",
   "metadata": {},
   "source": [
    "## Entorno y dependencias\n",
    "\n",
    "Usaré un entorno de Python con las dependencias fijadas en `requirements.txt` para asegurar reproducibilidad.\n",
    "\n",
    "- Instalación (desde el kernel seleccionado): `pip install -r requirements.txt`\n",
    "- Variables privadas: crear `.env` con `OPENAI_API_KEY=...` (no se sube a Git).\n",
    "- Paquetes clave: `langchain`, `langchain-openai`, `faiss-cpu`, `chromadb`, `pydantic`, `tiktoken`, `python-dotenv`, `pypdf`, `ipykernel`.\n",
    "\n",
    "> Objetivo: tener el entorno preparado para extraer el PDF, crear *embeddings* y ejecutar el RAG.\n"
   ]
  },
  {
   "cell_type": "code",
   "execution_count": 12,
   "id": "82bc217b-ad8c-45c2-a051-5d828fdd95ef",
   "metadata": {},
   "outputs": [
    {
     "name": "stderr",
     "output_type": "stream",
     "text": [
      "WARNING: All log messages before absl::InitializeLog() is called are written to STDERR\n",
      "I0000 00:00:1757146462.759963   17920 fork_posix.cc:71] Other threads are currently calling into gRPC, skipping fork() handlers\n"
     ]
    },
    {
     "name": "stdout",
     "output_type": "stream",
     "text": [
      "\u001b[31mERROR: pip's dependency resolver does not currently take into account all the packages that are installed. This behaviour is the source of the following dependency conflicts.\n",
      "tensorflow 2.19.0 requires protobuf!=4.21.0,!=4.21.1,!=4.21.2,!=4.21.3,!=4.21.4,!=4.21.5,<6.0.0dev,>=3.20.3, but you have protobuf 6.32.0 which is incompatible.\u001b[0m\u001b[31m\n",
      "\u001b[0m\n",
      "\u001b[1m[\u001b[0m\u001b[34;49mnotice\u001b[0m\u001b[1;39;49m]\u001b[0m\u001b[39;49m A new release of pip is available: \u001b[0m\u001b[31;49m25.1.1\u001b[0m\u001b[39;49m -> \u001b[0m\u001b[32;49m25.2\u001b[0m\n",
      "\u001b[1m[\u001b[0m\u001b[34;49mnotice\u001b[0m\u001b[1;39;49m]\u001b[0m\u001b[39;49m To update, run: \u001b[0m\u001b[32;49m/home/victordani/Escritorio/Pontia/7. ML-DL/pontia_modulo_ml_alumnos/env-pontia-ml/bin/python -m pip install --upgrade pip\u001b[0m\n",
      "Note: you may need to restart the kernel to use updated packages.\n"
     ]
    }
   ],
   "source": [
    "%pip install -q -r requirements.txt"
   ]
  },
  {
   "cell_type": "markdown",
   "id": "2806da60-5897-44a1-b560-fc0398fbe2eb",
   "metadata": {},
   "source": [
    "## Verificación de entorno y API\n",
    "Cargo variables desde `.env` y hago dos *smoke tests*:\n",
    "1) Llamada mínima al LLM.\n",
    "2) Cálculo de *embeddings*.\n"
   ]
  },
  {
   "cell_type": "code",
   "execution_count": 7,
   "id": "a05af8db-67bc-4869-8f01-eb8a00a3053d",
   "metadata": {},
   "outputs": [
    {
     "name": "stdout",
     "output_type": "stream",
     "text": [
      "LLM: OK\n",
      "Emb dim: 768\n"
     ]
    }
   ],
   "source": [
    "from dotenv import load_dotenv; load_dotenv()\n",
    "import os; assert os.getenv(\"GOOGLE_API_KEY\"), \"Falta GOOGLE_API_KEY en .env\"\n",
    "\n",
    "from langchain_google_genai import ChatGoogleGenerativeAI, GoogleGenerativeAIEmbeddings\n",
    "# LLM\n",
    "llm = ChatGoogleGenerativeAI(model=\"gemini-1.5-flash\", temperature=0)\n",
    "print(\"LLM:\", llm.invoke(\"Responde literalmente: OK\").content)  # esperado: OK\n",
    "# Embeddings\n",
    "emb = GoogleGenerativeAIEmbeddings(model=\"models/text-embedding-004\")\n",
    "print(\"Emb dim:\", len(emb.embed_query(\"playa en Tenerife\")))\n"
   ]
  },
  {
   "cell_type": "markdown",
   "id": "6aefc74e-d023-41f2-bb31-558ed0b68f4d",
   "metadata": {},
   "source": [
    "## Lectura de la guía (PDF → texto)\n",
    "\n",
    "Objetivo: cargar el PDF de Tenerife y obtener su texto en la variable `texto` para usarlo en el RAG.\n",
    "\n",
    "- Ruta esperada: `data/TENERIFE.pdf`\n",
    "- Librería: `pypdf` (ya instalada vía `requirements.txt`)\n",
    "- Salida esperada: cuenta de caracteres y un preview del contenido\n"
   ]
  },
  {
   "cell_type": "code",
   "execution_count": 9,
   "id": "899c088a-26ed-46da-9316-db61451e1184",
   "metadata": {},
   "outputs": [
    {
     "name": "stdout",
     "output_type": "stream",
     "text": [
      "Caracteres: 16142\n",
      "TENERIFE – LUGARES DE INTERÉS \n",
      "SITIOS QUE VER \n",
      " \n",
      "ZONA NORTE \n",
      " \n",
      "• Santa Cruz de Tenerife: \n",
      "Santa Cruz de Tenerife es la capital de la isla. Quizás la ruta a seguir si vais a Santa \n",
      "Cruz sería: \n",
      "- Aparcar en el aparcamiento del Parque Marítimo (ubicación). \n",
      "- Caminar por la Avenida Marítima hasta Plaza de España (ubicación). \n",
      "- Por el camino de la Avenida Marítima, ver el auditorio de Tenerife (ubicación). \n",
      "- Una vez llegados a Plaza España, callejear un poco (subir la Calle Castillo \n",
      "dirección Plaza Weyler - ubicación –; ir hacia el Parque García Sanabria - \n",
      "ubicación -; y bajar de nuevo hacia  …\n"
     ]
    }
   ],
   "source": [
    "from pypdf import PdfReader\n",
    "import os\n",
    "\n",
    "pdf_path = \"data/TENERIFE.pdf\"\n",
    "assert os.path.exists(pdf_path), \"Copia TENERIFE.pdf dentro de la carpeta data/\"\n",
    "\n",
    "texto = \"\\n\\n\".join((p.extract_text() or \"\").strip() for p in PdfReader(pdf_path).pages)\n",
    "print(\"Caracteres:\", len(texto))\n",
    "print(texto[:600], \"…\")\n"
   ]
  },
  {
   "cell_type": "markdown",
   "id": "fe56c1d5-0820-4b99-aab1-113d5a9d2cfb",
   "metadata": {},
   "source": [
    "## Chunking (trocear el texto)\n",
    "Objetivo: dividir el texto de la guía en trozos manejables (≈500 caracteres con solapamiento) para poder buscar por significado.\n"
   ]
  },
  {
   "cell_type": "code",
   "execution_count": 10,
   "id": "e2e1d213-0b04-42c4-868d-76374e774511",
   "metadata": {},
   "outputs": [
    {
     "name": "stdout",
     "output_type": "stream",
     "text": [
      "Nº de chunks: 49\n",
      "Ejemplo del primer chunk:\n",
      " TENERIFE – LUGARES DE INTERÉS \n",
      "SITIOS QUE VER \n",
      " \n",
      "ZONA NORTE \n",
      " \n",
      "• Santa Cruz de Tenerife: \n",
      "Santa Cruz de Tenerife es la capital de la isla. Quizás la ruta a seguir si vais a Santa \n",
      "Cruz sería: \n",
      "- Aparcar en el aparcamiento del Parque Marítimo (ubicación). \n",
      "- Caminar por la Avenida Marítima hasta Plaz …\n"
     ]
    }
   ],
   "source": [
    "from langchain.text_splitter import RecursiveCharacterTextSplitter\n",
    "\n",
    "splitter = RecursiveCharacterTextSplitter(chunk_size=500, chunk_overlap=100)\n",
    "chunks = splitter.split_text(texto)\n",
    "\n",
    "print(\"Nº de chunks:\", len(chunks))\n",
    "print(\"Ejemplo del primer chunk:\\n\", chunks[0][:300], \"…\")"
   ]
  },
  {
   "cell_type": "markdown",
   "id": "16abf54f-0ee3-4e1b-8898-26f3a07dafb2",
   "metadata": {},
   "source": [
    "## Embeddings + vector store (FAISS)\n",
    "Objetivo: convertir cada chunk en un vector semántico y guardarlos en un índice FAISS para búsqueda rápida.\n"
   ]
  },
  {
   "cell_type": "code",
   "execution_count": 13,
   "id": "cf6e46a3-2b2e-4592-a48d-ec1b11b6dcaa",
   "metadata": {},
   "outputs": [
    {
     "name": "stdout",
     "output_type": "stream",
     "text": [
      "Vector store listo · nº chunks: 49 · dim embedding: 768\n"
     ]
    }
   ],
   "source": [
    "from langchain_google_genai import GoogleGenerativeAIEmbeddings\n",
    "from langchain_community.vectorstores import FAISS\n",
    "\n",
    "emb = GoogleGenerativeAIEmbeddings(model=\"models/text-embedding-004\")\n",
    "vs = FAISS.from_texts(chunks, emb)\n",
    "\n",
    "# Comprobación rápida\n",
    "probe = emb.embed_query(\"playa en Tenerife\")\n",
    "print(\"Vector store listo · nº chunks:\", len(chunks), \"· dim embedding:\", len(probe))\n"
   ]
  },
  {
   "cell_type": "markdown",
   "id": "6c5fd8d5-1cca-4838-bea9-b409a13e39d5",
   "metadata": {},
   "source": [
    "## Búsqueda de prueba\n",
    "Objetivo: comprobar que el índice devuelve trozos coherentes para una pregunta.\n"
   ]
  },
  {
   "cell_type": "code",
   "execution_count": 14,
   "id": "4fd36a12-351d-46b3-8d62-1ca33aa03e43",
   "metadata": {},
   "outputs": [
    {
     "name": "stdout",
     "output_type": "stream",
     "text": [
      "[1] o Auditorio de Tenerife [vídeo - ubicación]      o Plaza de España [vídeo - ubicación]...\n",
      "\n",
      "[2] También se encuentra al lado de esta playa el Papagayo Beach Club, el cual  ha sido elegido varios años como mejor beach club de España y al que tenéis  que ir sí o sí si queréis salir de fiesta por Tenerife [vídeo]. Podéis consultar las  fiestas del...\n",
      "\n",
      "[3] Si queréis subir hasta el pico del Teide, podéis hacerlo desde aquí haciendo uso de  los teleféricos del Teide. Y, si queréis más info sobre el Teide, podéis ir al Centro de  Visitantes de El Portillo que es gratis.  Si os apetece, podéis subir de no...\n",
      "\n"
     ]
    }
   ],
   "source": [
    "q = \"¿Qué lugares imprescindibles visitar en Tenerife?\"\n",
    "docs = vs.similarity_search(q, k=3)\n",
    "\n",
    "for i, d in enumerate(docs, 1):\n",
    "    preview = d.page_content[:250].replace(\"\\n\", \" \")\n",
    "    print(f\"[{i}] {preview}...\\n\")\n"
   ]
  },
  {
   "cell_type": "markdown",
   "id": "d8bb0070-0260-48c2-ae2c-678ff8e9a548",
   "metadata": {},
   "source": [
    "## Metadatos para citar fuentes\n",
    "Objetivo: reconstruir el índice FAISS guardando `chunk_id` para poder mostrar las fuentes recuperadas.\n"
   ]
  },
  {
   "cell_type": "code",
   "execution_count": 15,
   "id": "71d9fdf6-7d06-4be6-8b44-5cd8cb303f43",
   "metadata": {},
   "outputs": [
    {
     "name": "stdout",
     "output_type": "stream",
     "text": [
      "FAISS reconstruido con metadatos · chunks: 49\n"
     ]
    }
   ],
   "source": [
    "from langchain_community.vectorstores import FAISS\n",
    "from langchain_google_genai import GoogleGenerativeAIEmbeddings\n",
    "\n",
    "emb = GoogleGenerativeAIEmbeddings(model=\"models/text-embedding-004\")\n",
    "metas = [{\"chunk_id\": i} for i in range(len(chunks))]\n",
    "vs = FAISS.from_texts(chunks, emb, metadatas=metas)\n",
    "\n",
    "print(\"FAISS reconstruido con metadatos · chunks:\", len(chunks))\n"
   ]
  },
  {
   "cell_type": "markdown",
   "id": "98fd2a6e-b871-4587-af64-e70a5f834237",
   "metadata": {},
   "source": [
    "## Chat conversacional (RAG)\n",
    "Objetivo: mantener historial y responder usando los 3 trozos más relevantes del índice FAISS."
   ]
  },
  {
   "cell_type": "code",
   "execution_count": 20,
   "id": "8a23ced5-7b9d-468f-911e-dc01a8f1f346",
   "metadata": {},
   "outputs": [
    {
     "name": "stdout",
     "output_type": "stream",
     "text": [
      "Basándome en el texto proporcionado, para una visita de dos días a Tenerife no te puedes perder:\n",
      "\n",
      "* **Auditorio de Tenerife:**  (Se incluye un vídeo y ubicación en el texto original)\n",
      "* **Plaza de España:** (Se incluye un vídeo y ubicación en el texto original)\n",
      "* **Papagayo Beach Club:**  (Se recomienda ir si quieres salir de fiesta, se incluye un vídeo y se recomienda reservar entrada con antelación).\n",
      "* **Restaurante Fujiyama:** (Sushi en Santa Cruz, se incluye la ubicación).\n",
      "\n",
      "\n",
      "El texto menciona otros lugares, pero indica que son muchos y que es recomendable organizar bien los días para aprovechar al máximo la visita. \n",
      "\n",
      "[Fuente 1 · chunk 2] o Auditorio de Tenerife [vídeo - ubicación]      o Plaza de España [vídeo - ubicación]...\n",
      "[Fuente 2 · chunk 33] También se encuentra al lado de esta playa el Papagayo Beach Club, el cual  ha sido elegido varios años como mejor beach club de España y al...\n",
      "[Fuente 3 · chunk 48] Recomendable reservar.  ▪ Restaurante Fujiyama (sushi en la zona de Santa Cruz [ubicación])    Y me estoy dejando tropecientos mil sitios, p...\n"
     ]
    }
   ],
   "source": [
    "from langchain_google_genai import ChatGoogleGenerativeAI\n",
    "from langchain.chains import ConversationalRetrievalChain\n",
    "\n",
    "llm = ChatGoogleGenerativeAI(model=\"gemini-1.5-flash\", temperature=0)\n",
    "retriever = vs.as_retriever(search_kwargs={\"k\": 3})\n",
    "\n",
    "qa = ConversationalRetrievalChain.from_llm(\n",
    "    llm, retriever=retriever, return_source_documents=True\n",
    ")\n",
    "\n",
    "chat_history = []\n",
    "\n",
    "def chat(q):\n",
    "    out = qa.invoke({\"question\": q, \"chat_history\": chat_history})\n",
    "    chat_history.append((q, out[\"answer\"]))\n",
    "    print(out[\"answer\"], \"\\n\")\n",
    "\n",
    "    for i, d in enumerate(out[\"source_documents\"], 1):\n",
    "        cid = d.metadata.get(\"chunk_id\", \"?\")\n",
    "        preview = d.page_content[:140].replace(\"\\n\",\" \")\n",
    "        print(f\"[Fuente {i} · chunk {cid}] {preview}...\")\n",
    "\n",
    "# prueba\n",
    "chat(\"Voy 2 días a Tenerife. ¿Qué no me puedo perder?\")\n"
   ]
  },
  {
   "cell_type": "markdown",
   "id": "6f3c2f70-fd1c-4095-b472-4993cd31a715",
   "metadata": {},
   "source": [
    "## Function call: `get_weather(fecha)`\n",
    "Objetivo: definir una función **simulada** con Pydantic que valide `fecha` (AAAA-MM-DD), devuelva un pronóstico simple y **registre** cada intento en `logs.txt`.\n"
   ]
  },
  {
   "cell_type": "code",
   "execution_count": 22,
   "id": "2462ec5b-6a96-4e57-aea6-98980acbab5a",
   "metadata": {},
   "outputs": [
    {
     "name": "stdout",
     "output_type": "stream",
     "text": [
      "{'ok': True, 'fecha': '2025-09-10', 'estado': 'nublado', 'tmin': 20, 'tmax': 26}\n",
      "{'ok': False, 'error': 'Value error, Formato inválido. Usa AAAA-MM-DD.'}\n"
     ]
    }
   ],
   "source": [
    "from pydantic import BaseModel, ValidationError, field_validator\n",
    "from datetime import datetime\n",
    "import random, json\n",
    "\n",
    "class GetWeatherArgs(BaseModel):\n",
    "    fecha: str\n",
    "\n",
    "    @field_validator(\"fecha\")\n",
    "    @classmethod\n",
    "    def valida_fecha(cls, v: str):\n",
    "        try:\n",
    "            datetime.strptime(v, \"%Y-%m-%d\")\n",
    "        except ValueError:\n",
    "            raise ValueError(\"Formato inválido. Usa AAAA-MM-DD.\")\n",
    "        return v\n",
    "\n",
    "def get_weather(fecha: str) -> dict:\n",
    "    \"\"\"Función simulada: genera un pronóstico reproducible y hace logging.\"\"\"\n",
    "    ts = datetime.now().isoformat(timespec=\"seconds\")\n",
    "    try:\n",
    "        args = GetWeatherArgs(fecha=fecha)\n",
    "        d = datetime.strptime(args.fecha, \"%Y-%m-%d\")\n",
    "        random.seed(int(d.strftime(\"%Y%m%d\")))  # reproducible por fecha\n",
    "        estado = random.choice([\"soleado\", \"parcialmente nublado\", \"nublado\",\n",
    "                                \"lluvia ligera\", \"calima\", \"viento fuerte\"])\n",
    "        tmax = random.randint(22, 31)\n",
    "        tmin = tmax - random.randint(3, 7)\n",
    "        result = {\"ok\": True, \"fecha\": args.fecha, \"estado\": estado,\n",
    "                  \"tmin\": tmin, \"tmax\": tmax}\n",
    "        msg = f\"[{ts}] get_weather ok fecha={args.fecha} -> {estado} {tmin}-{tmax}ºC\\n\"\n",
    "    except ValidationError as e:\n",
    "        result = {\"ok\": False, \"error\": e.errors()[0][\"msg\"]}\n",
    "        msg = f\"[{ts}] get_weather ERROR fecha={fecha} -> {result['error']}\\n\"\n",
    "    finally:\n",
    "        with open(\"logs.txt\", \"a\", encoding=\"utf-8\") as f:\n",
    "            f.write(msg)\n",
    "    return result\n",
    "\n",
    "# Pruebas rápidas\n",
    "print(get_weather(\"2025-09-10\"))\n",
    "print(get_weather(\"2025-99-99\"))  # debe dar error de validación\n"
   ]
  },
  {
   "cell_type": "markdown",
   "id": "75153bfc-6600-420c-b582-dce125729d10",
   "metadata": {},
   "source": [
    "## Integración de `get_weather` en el chat\n",
    "Si la pregunta contiene palabras de “tiempo/clima” y una fecha `AAAA-MM-DD`, llamo a `get_weather`. Si falta fecha, aviso."
   ]
  },
  {
   "cell_type": "code",
   "execution_count": 23,
   "id": "52d39611-4938-4267-a8e3-111f0ef0b9a2",
   "metadata": {},
   "outputs": [
    {
     "name": "stdout",
     "output_type": "stream",
     "text": [
      "Pronóstico para 2025-09-10: nublado (20–26ºC) \n",
      "\n",
      "Error en `get_weather`: Value error, Formato inválido. Usa AAAA-MM-DD. \n",
      "\n",
      "Basándome en el texto proporcionado, tres planes imprescindibles en Tenerife serían:\n",
      "\n",
      "1. Visitar el Teide:  Se menciona la posibilidad de subir al pico del Teide en teleférico y visitar el Centro de Visitantes de El Portillo.  Se destaca también la posibilidad de observar el cielo estrellado desde allí.\n",
      "\n",
      "2. Explorar Costa Adeje: Se describe como la zona turística por excelencia de Tenerife.\n",
      "\n",
      "3. Visitar Puerto de la Cruz: Se presenta como la zona turística del Norte de Tenerife,  sugiriendo un paseo desde el muelle hasta la Playa Martiánez. \n",
      "\n",
      "[Fuente 1 · chunk 2] o Auditorio de Tenerife [vídeo - ubicación]      o Plaza de España [vídeo - ubicación]...\n",
      "[Fuente 2 · chunk 29] Si queréis subir hasta el pico del Teide, podéis hacerlo desde aquí haciendo uso de  los teleféricos del Teide. Y, si queréis más info sobre...\n",
      "[Fuente 3 · chunk 15] tendréis poca playa (especialmente a la del Ancón) y tened mucho respeto al mar en  estas playas, que la corriente es muy traicionera.    • ...\n"
     ]
    }
   ],
   "source": [
    "import re\n",
    "\n",
    "def chat(q):\n",
    "    ql = q.lower()\n",
    "    # 1) Detección simple de intención \"tiempo\"\n",
    "    if any(k in ql for k in [\"tiempo\", \"clima\", \"weather\", \"pronóstico\"]):\n",
    "        m = re.search(r\"\\b\\d{4}-\\d{2}-\\d{2}\\b\", q)\n",
    "        if m:\n",
    "            w = get_weather(m.group(0))\n",
    "            if w[\"ok\"]:\n",
    "                ans = f\"Pronóstico para {w['fecha']}: {w['estado']} ({w['tmin']}–{w['tmax']}ºC)\"\n",
    "            else:\n",
    "                ans = f\"Error en `get_weather`: {w['error']}\"\n",
    "            chat_history.append((q, ans))\n",
    "            print(ans, \"\\n\")\n",
    "            return\n",
    "        else:\n",
    "            msg = \"Para consultar el tiempo, indica una fecha en formato AAAA-MM-DD.\"\n",
    "            chat_history.append((q, msg))\n",
    "            print(msg, \"\\n\")\n",
    "            return\n",
    "\n",
    "    # 2) RAG normal\n",
    "    out = qa.invoke({\"question\": q, \"chat_history\": chat_history})\n",
    "    chat_history.append((q, out[\"answer\"]))\n",
    "    print(out[\"answer\"], \"\\n\")\n",
    "    for i, d in enumerate(out[\"source_documents\"], 1):\n",
    "        cid = d.metadata.get(\"chunk_id\", \"?\")\n",
    "        preview = d.page_content[:140].replace(\"\\n\",\" \")\n",
    "        print(f\"[Fuente {i} · chunk {cid}] {preview}...\")\n",
    "\n",
    "# Pruebas mínimas\n",
    "chat(\"¿Qué tiempo hará el 2025-09-10 en Tenerife?\")\n",
    "chat(\"¿Qué tiempo hará el 2025-99-99?\")\n",
    "chat(\"Dame 3 planes imprescindibles en Tenerife\")\n"
   ]
  },
  {
   "cell_type": "markdown",
   "id": "713404b1-593a-4f44-98f9-d5610db64734",
   "metadata": {},
   "source": [
    "## Validación de `get_weather` (3 invocaciones correctas + 1 con error)\n"
   ]
  },
  {
   "cell_type": "code",
   "execution_count": 24,
   "id": "9f6f9cdd-f8f1-4880-9ec1-7f31286e0e68",
   "metadata": {},
   "outputs": [
    {
     "name": "stdout",
     "output_type": "stream",
     "text": [
      "Pronóstico para 2025-09-10: nublado (20–26ºC) \n",
      "\n",
      "Pronóstico para 2025-12-25: soleado (15–22ºC) \n",
      "\n",
      "Pronóstico para 2026-01-05: viento fuerte (24–28ºC) \n",
      "\n",
      "Error en `get_weather`: Value error, Formato inválido. Usa AAAA-MM-DD. \n",
      "\n"
     ]
    }
   ],
   "source": [
    "# Tres fechas válidas\n",
    "chat(\"¿Qué tiempo hará el 2025-09-10 en Tenerife?\")\n",
    "chat(\"¿Qué tiempo hará el 2025-12-25 en Tenerife?\")\n",
    "chat(\"¿Qué tiempo hará el 2026-01-05 en Tenerife?\")\n",
    "\n",
    "# Un caso con error (fecha inválida)\n",
    "chat(\"¿Qué tiempo hará el 2025-99-99 en Tenerife?\")\n"
   ]
  },
  {
   "cell_type": "markdown",
   "id": "3259c722-d5b9-41aa-9dc8-1f079ada1084",
   "metadata": {},
   "source": [
    "## Persistencia del índice (FAISS)\n",
    "Objetivo: guardar el índice en disco y comprobar que se recarga correctamente.\n"
   ]
  },
  {
   "cell_type": "code",
   "execution_count": 26,
   "id": "39027e9d-8fce-48c8-9dc8-76b8f86ca388",
   "metadata": {},
   "outputs": [
    {
     "name": "stdout",
     "output_type": "stream",
     "text": [
      "Índice guardado en ./vs_tenerife\n"
     ]
    }
   ],
   "source": [
    "# Guarda el índice en una carpeta local\n",
    "vs.save_local(\"vs_tenerife\")\n",
    "print(\"Índice guardado en ./vs_tenerife\")\n"
   ]
  },
  {
   "cell_type": "code",
   "execution_count": 27,
   "id": "3bdc2263-ae60-4bca-af6d-4eebfd10eae3",
   "metadata": {},
   "outputs": [
    {
     "name": "stdout",
     "output_type": "stream",
     "text": [
      "Recarga OK · resultados: 2\n",
      "También se encuentra al lado de esta playa el Papagayo Beach Club, el cual \n",
      "ha sido elegido varios años como mejor beach club de España y al que tenéis \n",
      "que ir  …\n"
     ]
    }
   ],
   "source": [
    "from langchain_community.vectorstores import FAISS\n",
    "from langchain_google_genai import GoogleGenerativeAIEmbeddings\n",
    "\n",
    "emb = GoogleGenerativeAIEmbeddings(model=\"models/text-embedding-004\")\n",
    "vs2 = FAISS.load_local(\"vs_tenerife\", emb, allow_dangerous_deserialization=True)\n",
    "\n",
    "# Prueba rápida\n",
    "docs = vs2.similarity_search(\"mejores playas de Tenerife\", k=2)\n",
    "print(\"Recarga OK · resultados:\", len(docs))\n",
    "print(docs[0].page_content[:160], \"…\")\n",
    "\n",
    "# Usaremos vs2 en adelante\n",
    "vs = vs2\n"
   ]
  },
  {
   "cell_type": "code",
   "execution_count": null,
   "id": "907e67f8-2eb9-4e86-887e-77cc0d531df6",
   "metadata": {},
   "outputs": [],
   "source": []
  }
 ],
 "metadata": {
  "kernelspec": {
   "display_name": "env-pontia-ml",
   "language": "python",
   "name": "env-pontia-ml"
  },
  "language_info": {
   "codemirror_mode": {
    "name": "ipython",
    "version": 3
   },
   "file_extension": ".py",
   "mimetype": "text/x-python",
   "name": "python",
   "nbconvert_exporter": "python",
   "pygments_lexer": "ipython3",
   "version": "3.11.13"
  }
 },
 "nbformat": 4,
 "nbformat_minor": 5
}
